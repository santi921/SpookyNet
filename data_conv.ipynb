{
 "cells": [
  {
   "cell_type": "code",
   "execution_count": 3,
   "metadata": {},
   "outputs": [],
   "source": [
    "import pandas as pd \n",
    "\n",
    "import json\n",
    "import h5py\n",
    "import ase \n",
    "from ase import io\n",
    "from pymatgen.io.ase import AseAtomsAdaptor\n",
    "from pymatgen.analysis.graphs import MoleculeGraph\n",
    "from pymatgen.core import Molecule, Structure\n",
    "\n",
    "elem_to_num = {\n",
    "    \"H\": 1,\n",
    "    \"He\": 2,\n",
    "    \"Li\": 3,\n",
    "    \"Be\": 4,\n",
    "    \"B\": 5,\n",
    "    \"C\": 6,\n",
    "    \"N\": 7,\n",
    "    \"O\": 8,\n",
    "    \"F\": 9,\n",
    "    \"Ne\": 10,\n",
    "    \"Na\": 11,\n",
    "    \"Mg\": 12,\n",
    "    \"Al\": 13,\n",
    "    \"Si\": 14,\n",
    "    \"P\": 15,\n",
    "    \"S\": 16,\n",
    "    \"Cl\": 17\n",
    "}    \n",
    "\n",
    "num_to_elem = {v: k for k, v in elem_to_num.items()}"
   ]
  },
  {
   "cell_type": "code",
   "execution_count": 4,
   "metadata": {},
   "outputs": [],
   "source": [
    "df = pd.read_json(\"/home/santiagovargas/dev/berkeley_pes/data/test_libe.json\")\n",
    "file_xyz = \"/home/santiagovargas/dev/SpookyNet/data/10/rad_qm9_traj_subset_train10.xyz\"\n",
    "statistics = \"/home/santiagovargas/dev/SpookyNet/data/10/h5/statistics.json\"\n",
    "h5_test = '/home/santiagovargas/dev/SpookyNet/data/10/h5/train/train_0.h5'\n",
    "\n",
    "train_chunk_5 = \"/home/santiagovargas/Downloads/radqm9_65_10_25_trajectory_full_data_20240807_train_subset_0.05.xyz\"\n",
    "train_chunk_10 = \"/home/santiagovargas/Downloads/radqm9_65_10_25_trajectory_full_data_20240807_train_subset_0.1.xyz\"\n",
    "train_chunk_25 = \"/home/santiagovargas/Downloads/radqm9_65_10_25_trajectory_full_data_20240807_train_subset_0.25.xyz\"\n",
    "validation = \"/home/santiagovargas/Downloads/radqm9_65_10_25_trajectory_full_data_20240807_val.xyz\"\n",
    "test = \"/home/santiagovargas/Downloads/radqm9_65_10_25_trajectory_full_data_20240807_test.xyz\"\n",
    "ood = \"/home/santiagovargas/Downloads/radqm9_65_10_25_trajectory_full_data_20240807_ood.xyz\"\n",
    "\n"
   ]
  },
  {
   "cell_type": "code",
   "execution_count": 4,
   "metadata": {},
   "outputs": [],
   "source": [
    "# items needed "
   ]
  },
  {
   "cell_type": "code",
   "execution_count": 5,
   "metadata": {},
   "outputs": [],
   "source": [
    "df[[\"molecule\", \"energy\", \"gradient\"]].iloc[0][\"molecule\"]\n",
    "row = df.iloc[0]\n",
    "spin = row[\"molecule\"][\"spin_multiplicity\"]\n",
    "charge = row[\"molecule\"][\"charge\"]\n",
    "force = row[\"gradient\"]\n",
    "energy = row[\"energy\"]"
   ]
  },
  {
   "cell_type": "code",
   "execution_count": 6,
   "metadata": {},
   "outputs": [],
   "source": [
    "\n",
    "pos_elem_list = [(elem_to_num[i[\"name\"]], i[\"xyz\"]) for i in row[\"molecule\"][\"sites\"]] \n",
    "elem = [i[0] for i in pos_elem_list]\n",
    "pos = [i[1] for i in pos_elem_list]"
   ]
  },
  {
   "cell_type": "code",
   "execution_count": 14,
   "metadata": {},
   "outputs": [],
   "source": [
    "\n",
    "def convert_to_rows(file_xyz):\n",
    "    atoms = io.read(file_xyz, index=':')\n",
    "    list_of_rows = []\n",
    "    for atom in atoms: \n",
    "        \n",
    "        info = atom.info\n",
    "        full_info = atom.__dict__[\"arrays\"]\n",
    "        spin = info['spin']\n",
    "        charge = info['charge']\n",
    "        relative_energy = info['relative_energy']\n",
    "        #total_energy = info['total_energy']\n",
    "        #resp_dipole_moments = info['calc_resp_dipole_moments']\n",
    "        atomic_num = atom.get_atomic_numbers()\n",
    "        forces = atom.get_forces()\n",
    "        pos = atom.get_positions()\n",
    "        mulliken_partial_charges = full_info['mulliken_partial_charges']\n",
    "        mulliken_partial_spins = full_info['mulliken_partial_spins']\n",
    "        #resp_partial_charges = full_info['resp_partial_charges']\n",
    "\n",
    "        dict_temp = {\n",
    "            \"sites\": [\n",
    "                {\n",
    "                #'species': [{'element': num_to_elem[atomic_num[i]], 'occu': 1}],\n",
    "                'xyz': pos[i],\n",
    "                'name': num_to_elem[atomic_num[i]],\n",
    "                'properties': {}\n",
    "                }\n",
    "                for i in range(len(atomic_num))\n",
    "            ],\n",
    "        }\n",
    "        dict_temp[\"charge\"] = charge\n",
    "        dict_temp[\"spin_multiplicity\"] = spin\n",
    "        \n",
    "        dict_total = {\n",
    "            \"molecule\": dict_temp,\n",
    "            #\"energy\": total_energy,\n",
    "            \"gradient\": forces, \n",
    "            \"relative_energy\": relative_energy,\n",
    "            #\"calc_resp_dipole_moments\": resp_dipole_moments,\n",
    "            \"mulliken_partial_charges\": mulliken_partial_charges,\n",
    "            \"mulliken_partial_spins\": mulliken_partial_spins,\n",
    "            #\"resp_partial_charges\": resp_partial_charges\n",
    "        }\n",
    "        list_of_rows.append(dict_total)\n",
    "    \n",
    "    # convert to dataframe \n",
    "    return pd.DataFrame(list_of_rows)\n",
    "\n",
    "df = convert_to_rows(train_chunk_5)\n",
    "# save\n",
    "df.to_json(\"train_chunk_5_radqm9_20240807.json\")"
   ]
  },
  {
   "cell_type": "code",
   "execution_count": 5,
   "metadata": {},
   "outputs": [
    {
     "data": {
      "text/plain": [
       "{'numbers': array([7, 6, 8, 8, 6, 6, 9, 9, 9, 1, 1, 1, 1]),\n",
       " 'positions': array([[-0.16878954,  1.20249863, -0.04144335],\n",
       "        [-0.0987566 , -0.12505141,  0.23721661],\n",
       "        [ 0.55867907, -0.63571692,  1.1090262 ],\n",
       "        [-0.86547791, -0.81374151, -0.67056466],\n",
       "        [-0.94176041, -2.21389414, -0.47033705],\n",
       "        [-2.28648015, -2.56663258,  0.14898815],\n",
       "        [-3.3061026 , -2.22827849, -0.65013098],\n",
       "        [-2.35069852, -3.88858071,  0.36197702],\n",
       "        [-2.46459547, -1.94311631,  1.31851042],\n",
       "        [ 0.22127548,  1.83095585,  0.63868941],\n",
       "        [-0.88433481,  1.54121139, -0.66111086],\n",
       "        [-0.86608158, -2.70271344, -1.44397605],\n",
       "        [-0.14504256, -2.55092205,  0.19495526]]),\n",
       " 'mulliken_partial_charges': array([ 0.268207,  1.162587, -0.296609, -0.835803,  0.458088,  1.350123,\n",
       "        -0.41522 , -0.411446, -0.428372,  0.09002 ,  0.022306, -0.136292,\n",
       "         0.172412]),\n",
       " 'mulliken_partial_spins': array([ 6.77695e-01, -1.48258e-01,  4.94031e-01, -4.23600e-03,\n",
       "         4.65600e-03,  6.97000e-04,  7.64000e-04, -8.90000e-05,\n",
       "         1.26000e-04, -9.98600e-03, -1.69240e-02, -4.04000e-04,\n",
       "         1.92600e-03]),\n",
       " 'resp_partial_charges': array([-0.170619,  0.592678, -0.193614, -0.191536, -0.356573,  0.337763,\n",
       "        -0.097049, -0.097049, -0.097049,  0.365257,  0.365257,  0.271266,\n",
       "         0.271266])}"
      ]
     },
     "execution_count": 5,
     "metadata": {},
     "output_type": "execute_result"
    }
   ],
   "source": [
    "\n",
    "file_xyz = train_chunk_5\n",
    "atoms = io.read(file_xyz, index=':')\n",
    "list_of_rows = []\n",
    "for atom in atoms: \n",
    "    \n",
    "    info = atom.info\n",
    "    full_info = atom.__dict__[\"arrays\"]\n",
    "    spin = info['spin']\n",
    "    charge = info['charge']\n",
    "    relative_energy = info['relative_energy']\n",
    "    #total_energy = info['total_energy']\n",
    "    #resp_dipole_moments = info['calc_resp_dipole_moments']\n",
    "    atomic_num = atom.get_atomic_numbers()\n",
    "    forces = atom.get_forces()\n",
    "    pos = atom.get_positions()\n",
    "    mulliken_partial_charges = full_info['mulliken_partial_charges']\n",
    "    mulliken_partial_spins = full_info['mulliken_partial_spins']\n",
    "    \n",
    "    dict_temp = {\n",
    "        \"sites\": [\n",
    "            {\n",
    "            #'species': [{'element': num_to_elem[atomic_num[i]], 'occu': 1}],\n",
    "            'xyz': pos[i],\n",
    "            'name': num_to_elem[atomic_num[i]],\n",
    "            'properties': {}\n",
    "            }\n",
    "            for i in range(len(atomic_num))\n",
    "        ],\n",
    "    }\n",
    "    dict_temp[\"charge\"] = charge\n",
    "    dict_temp[\"spin_multiplicity\"] = spin\n",
    "    \n",
    "    dict_total = {\n",
    "        \"molecule\": dict_temp,\n",
    "        #\"energy\": total_energy,\n",
    "        \"gradient\": forces, \n",
    "        \"relative_energy\": relative_energy,\n",
    "        #\"calc_resp_dipole_moments\": resp_dipole_moments,\n",
    "        \"mulliken_partial_charges\": mulliken_partial_charges,\n",
    "        \"mulliken_partial_spins\": mulliken_partial_spins,\n",
    "        #\"resp_partial_charges\": resp_partial_charges\n",
    "    }\n",
    "\n",
    "    break \n",
    "\n",
    "full_info\n"
   ]
  },
  {
   "cell_type": "code",
   "execution_count": null,
   "metadata": {},
   "outputs": [],
   "source": [
    "\n",
    "\n",
    "\n",
    "df = convert_to_rows(train_chunk_5)\n",
    "# save\n",
    "df.to_json(\"train_chunk_5_radqm9_20240807.json\")"
   ]
  },
  {
   "cell_type": "code",
   "execution_count": 17,
   "metadata": {},
   "outputs": [],
   "source": [
    "df = convert_to_rows(train_chunk_10)\n",
    "df.to_json(\"train_chunk_10_radqm9_20240807.json\")"
   ]
  },
  {
   "cell_type": "code",
   "execution_count": 18,
   "metadata": {},
   "outputs": [],
   "source": [
    "df = convert_to_rows(train_chunk_25)\n",
    "df.to_json(\"train_chunk_25_radqm9_20240807.json\")"
   ]
  },
  {
   "cell_type": "code",
   "execution_count": 19,
   "metadata": {},
   "outputs": [],
   "source": [
    "df = convert_to_rows(test)\n",
    "df.to_json(\"test_radqm9_20240807.json\")"
   ]
  },
  {
   "cell_type": "code",
   "execution_count": 20,
   "metadata": {},
   "outputs": [],
   "source": [
    "df = convert_to_rows(ood)\n",
    "df.to_json(\"ood_radqm9_20240807.json\")"
   ]
  },
  {
   "cell_type": "code",
   "execution_count": 21,
   "metadata": {},
   "outputs": [],
   "source": [
    "df = convert_to_rows(validation)\n",
    "df.to_json(\"validation_radqm9_20240807.json\")"
   ]
  }
 ],
 "metadata": {
  "kernelspec": {
   "display_name": "bondnet_new",
   "language": "python",
   "name": "python3"
  },
  "language_info": {
   "codemirror_mode": {
    "name": "ipython",
    "version": 3
   },
   "file_extension": ".py",
   "mimetype": "text/x-python",
   "name": "python",
   "nbconvert_exporter": "python",
   "pygments_lexer": "ipython3",
   "version": "3.11.8"
  }
 },
 "nbformat": 4,
 "nbformat_minor": 2
}
