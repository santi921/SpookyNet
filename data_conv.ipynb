{
 "cells": [
  {
   "cell_type": "code",
   "execution_count": 1,
   "metadata": {},
   "outputs": [],
   "source": [
    "import pandas as pd "
   ]
  },
  {
   "cell_type": "code",
   "execution_count": 2,
   "metadata": {},
   "outputs": [],
   "source": [
    "df = pd.read_json(\"/home/santiagovargas/dev/berkeley_pes/data/test_libe.json\")"
   ]
  },
  {
   "cell_type": "code",
   "execution_count": 3,
   "metadata": {},
   "outputs": [],
   "source": [
    "df[[\"molecule\", \"energy\", \"gradient\"]].iloc[0][\"molecule\"]\n",
    "row = df.iloc[0]\n",
    "spin = row[\"molecule\"][\"spin_multiplicity\"]\n",
    "charge = row[\"molecule\"][\"charge\"]\n",
    "force = row[\"gradient\"]\n",
    "energy = row[\"energy\"]"
   ]
  },
  {
   "cell_type": "code",
   "execution_count": 14,
   "metadata": {},
   "outputs": [],
   "source": [
    "elem_to_num = {\n",
    "    \"H\": 1,\n",
    "    \"He\": 2,\n",
    "    \"Li\": 3,\n",
    "    \"Be\": 4,\n",
    "    \"B\": 5,\n",
    "    \"C\": 6,\n",
    "    \"N\": 7,\n",
    "    \"O\": 8,\n",
    "    \"F\": 9,\n",
    "    \"Ne\": 10,\n",
    "    \"Na\": 11,\n",
    "    \"Mg\": 12,\n",
    "    \"Al\": 13,\n",
    "    \"Si\": 14,\n",
    "    \"P\": 15,\n",
    "    \"S\": 16,\n",
    "    \"Cl\": 17\n",
    "}    \n",
    "\n",
    "pos_elem_list = [(elem_to_num[i[\"name\"]], i[\"xyz\"]) for i in row[\"molecule\"][\"sites\"]] \n",
    "elem = [i[0] for i in pos_elem_list]\n",
    "pos = [i[1] for i in pos_elem_list]"
   ]
  },
  {
   "cell_type": "code",
   "execution_count": 15,
   "metadata": {},
   "outputs": [],
   "source": [
    "\n"
   ]
  },
  {
   "cell_type": "code",
   "execution_count": 4,
   "metadata": {},
   "outputs": [
    {
     "data": {
      "text/plain": [
       "{'@module': 'pymatgen.core.structure',\n",
       " '@class': 'Molecule',\n",
       " 'charge': 0,\n",
       " 'spin_multiplicity': 1,\n",
       " 'sites': [{'name': 'O',\n",
       "   'species': [{'element': 'O', 'occu': 1}],\n",
       "   'xyz': [-2.6925826572, 0.7768596788000001, -0.6232921263],\n",
       "   'properties': {}},\n",
       "  {'name': 'C',\n",
       "   'species': [{'element': 'C', 'occu': 1}],\n",
       "   'xyz': [-1.8891435037000002, -0.0008620098, -1.1063488904],\n",
       "   'properties': {}},\n",
       "  {'name': 'C',\n",
       "   'species': [{'element': 'C', 'occu': 1}],\n",
       "   'xyz': [-1.0414994726, -0.9508093493, -0.3183232657],\n",
       "   'properties': {}},\n",
       "  {'name': 'C',\n",
       "   'species': [{'element': 'C', 'occu': 1}],\n",
       "   'xyz': [0.42070744720000003, -0.6954733305, -0.5925367549],\n",
       "   'properties': {}},\n",
       "  {'name': 'O',\n",
       "   'species': [{'element': 'O', 'occu': 1}],\n",
       "   'xyz': [-3.7580214127, 1.7756652839, 2.6235669689],\n",
       "   'properties': {}},\n",
       "  {'name': 'H',\n",
       "   'species': [{'element': 'H', 'occu': 1}],\n",
       "   'xyz': [-3.966847318, 2.0676673205, 3.5044355521],\n",
       "   'properties': {}},\n",
       "  {'name': 'H',\n",
       "   'species': [{'element': 'H', 'occu': 1}],\n",
       "   'xyz': [0.8233032803, 0.23528877480000002, -0.19775227080000002],\n",
       "   'properties': {}},\n",
       "  {'name': 'C',\n",
       "   'species': [{'element': 'C', 'occu': 1}],\n",
       "   'xyz': [1.2018459214, -1.5202654209, -1.2780602347],\n",
       "   'properties': {}},\n",
       "  {'name': 'H',\n",
       "   'species': [{'element': 'H', 'occu': 1}],\n",
       "   'xyz': [0.8249847277, -2.4572428018, -1.680718926],\n",
       "   'properties': {}},\n",
       "  {'name': 'H',\n",
       "   'species': [{'element': 'H', 'occu': 1}],\n",
       "   'xyz': [2.2479934987, -1.286648756, -1.4508129205],\n",
       "   'properties': {}},\n",
       "  {'name': 'H',\n",
       "   'species': [{'element': 'H', 'occu': 1}],\n",
       "   'xyz': [-1.3084979922, -1.9593446323, -0.6565991038],\n",
       "   'properties': {}},\n",
       "  {'name': 'H',\n",
       "   'species': [{'element': 'H', 'occu': 1}],\n",
       "   'xyz': [-1.2746067518, -0.8527046705, 0.7456781833],\n",
       "   'properties': {}},\n",
       "  {'name': 'H',\n",
       "   'species': [{'element': 'H', 'occu': 1}],\n",
       "   'xyz': [-1.757091166, -0.023397882000000002, -2.200751949],\n",
       "   'properties': {}},\n",
       "  {'name': 'Li',\n",
       "   'species': [{'element': 'Li', 'occu': 1}],\n",
       "   'xyz': [-3.3346246013, 1.3382077951, 1.0804757378],\n",
       "   'properties': {}}],\n",
       " '@version': None}"
      ]
     },
     "execution_count": 4,
     "metadata": {},
     "output_type": "execute_result"
    }
   ],
   "source": [
    "df[[\"molecule\", \"energy\", \"gradient\"]].iloc[0][\"molecule\"]"
   ]
  },
  {
   "cell_type": "code",
   "execution_count": 6,
   "metadata": {},
   "outputs": [
    {
     "ename": "ModuleNotFoundError",
     "evalue": "No module named 'torch'",
     "output_type": "error",
     "traceback": [
      "\u001b[0;31m---------------------------------------------------------------------------\u001b[0m",
      "\u001b[0;31mModuleNotFoundError\u001b[0m                       Traceback (most recent call last)",
      "Cell \u001b[0;32mIn[6], line 2\u001b[0m\n\u001b[1;32m      1\u001b[0m \u001b[38;5;28;01mfrom\u001b[39;00m \u001b[38;5;21;01mase\u001b[39;00m \u001b[38;5;28;01mimport\u001b[39;00m Atoms\n\u001b[0;32m----> 2\u001b[0m \u001b[38;5;28;01mfrom\u001b[39;00m \u001b[38;5;21;01mspookynet\u001b[39;00m \u001b[38;5;28;01mimport\u001b[39;00m SpookyNetCalculator\n\u001b[1;32m      3\u001b[0m carbene \u001b[38;5;241m=\u001b[39m Atoms(\u001b[38;5;124m'\u001b[39m\u001b[38;5;124mCH2\u001b[39m\u001b[38;5;124m'\u001b[39m, positions\u001b[38;5;241m=\u001b[39m[\n\u001b[1;32m      4\u001b[0m \t( \u001b[38;5;241m0.000\u001b[39m,  \u001b[38;5;241m0.000\u001b[39m,  \u001b[38;5;241m0.000\u001b[39m), \n\u001b[1;32m      5\u001b[0m \t(\u001b[38;5;241m-\u001b[39m\u001b[38;5;241m0.865\u001b[39m, \u001b[38;5;241m-\u001b[39m\u001b[38;5;241m0.584\u001b[39m,  \u001b[38;5;241m0.000\u001b[39m), \n\u001b[1;32m      6\u001b[0m \t( \u001b[38;5;241m0.865\u001b[39m, \u001b[38;5;241m-\u001b[39m\u001b[38;5;241m0.584\u001b[39m,  \u001b[38;5;241m0.000\u001b[39m), \n\u001b[1;32m      7\u001b[0m ])\n",
      "File \u001b[0;32m~/dev/SpookyNet/spookynet/__init__.py:1\u001b[0m\n\u001b[0;32m----> 1\u001b[0m \u001b[38;5;28;01mfrom\u001b[39;00m \u001b[38;5;21;01m.\u001b[39;00m\u001b[38;5;21;01mspookynet\u001b[39;00m \u001b[38;5;28;01mimport\u001b[39;00m SpookyNet\n\u001b[1;32m      2\u001b[0m \u001b[38;5;28;01mfrom\u001b[39;00m \u001b[38;5;21;01m.\u001b[39;00m\u001b[38;5;21;01mspookynet_ensemble\u001b[39;00m \u001b[38;5;28;01mimport\u001b[39;00m SpookyNetEnsemble\n\u001b[1;32m      3\u001b[0m \u001b[38;5;28;01mfrom\u001b[39;00m \u001b[38;5;21;01m.\u001b[39;00m\u001b[38;5;21;01mspookynet_calculator\u001b[39;00m \u001b[38;5;28;01mimport\u001b[39;00m SpookyNetCalculator\n",
      "File \u001b[0;32m~/dev/SpookyNet/spookynet/spookynet.py:2\u001b[0m\n\u001b[1;32m      1\u001b[0m \u001b[38;5;28;01mimport\u001b[39;00m \u001b[38;5;21;01mmath\u001b[39;00m\n\u001b[0;32m----> 2\u001b[0m \u001b[38;5;28;01mimport\u001b[39;00m \u001b[38;5;21;01mtorch\u001b[39;00m\n\u001b[1;32m      3\u001b[0m \u001b[38;5;28;01mimport\u001b[39;00m \u001b[38;5;21;01mtorch\u001b[39;00m\u001b[38;5;21;01m.\u001b[39;00m\u001b[38;5;21;01mnn\u001b[39;00m \u001b[38;5;28;01mas\u001b[39;00m \u001b[38;5;21;01mnn\u001b[39;00m\n\u001b[1;32m      4\u001b[0m \u001b[38;5;28;01mfrom\u001b[39;00m \u001b[38;5;21;01m.\u001b[39;00m\u001b[38;5;21;01mfunctional\u001b[39;00m \u001b[38;5;28;01mimport\u001b[39;00m cutoff_function\n",
      "\u001b[0;31mModuleNotFoundError\u001b[0m: No module named 'torch'"
     ]
    }
   ],
   "source": [
    "from ase import Atoms\n",
    "from spookynet import SpookyNetCalculator\n",
    "carbene = Atoms('CH2', positions=[\n",
    "\t( 0.000,  0.000,  0.000), \n",
    "\t(-0.865, -0.584,  0.000), \n",
    "\t( 0.865, -0.584,  0.000), \n",
    "])"
   ]
  },
  {
   "cell_type": "code",
   "execution_count": 7,
   "metadata": {},
   "outputs": [
    {
     "data": {
      "text/plain": [
       "array([[ 0.   ,  0.   ,  0.   ],\n",
       "       [-0.865, -0.584,  0.   ],\n",
       "       [ 0.865, -0.584,  0.   ]])"
      ]
     },
     "execution_count": 7,
     "metadata": {},
     "output_type": "execute_result"
    }
   ],
   "source": [
    "carbene = Atoms('CH2', positions=[\n",
    "\t( 0.000,  0.000,  0.000), \n",
    "\t(-0.865, -0.584,  0.000), \n",
    "\t( 0.865, -0.584,  0.000), \n",
    "])\n",
    "\n",
    "carbene.numbers\n",
    "carbene.positions"
   ]
  },
  {
   "cell_type": "code",
   "execution_count": 8,
   "metadata": {},
   "outputs": [
    {
     "data": {
      "text/plain": [
       "array([6, 1, 1])"
      ]
     },
     "execution_count": 8,
     "metadata": {},
     "output_type": "execute_result"
    }
   ],
   "source": [
    "carbene.numbers"
   ]
  },
  {
   "cell_type": "code",
   "execution_count": 9,
   "metadata": {},
   "outputs": [
    {
     "data": {
      "text/plain": [
       "array([[ 0.   ,  0.   ,  0.   ],\n",
       "       [-0.865, -0.584,  0.   ],\n",
       "       [ 0.865, -0.584,  0.   ]])"
      ]
     },
     "execution_count": 9,
     "metadata": {},
     "output_type": "execute_result"
    }
   ],
   "source": [
    "carbene.positions"
   ]
  },
  {
   "cell_type": "code",
   "execution_count": null,
   "metadata": {},
   "outputs": [],
   "source": []
  }
 ],
 "metadata": {
  "kernelspec": {
   "display_name": "bondnet_new",
   "language": "python",
   "name": "python3"
  },
  "language_info": {
   "codemirror_mode": {
    "name": "ipython",
    "version": 3
   },
   "file_extension": ".py",
   "mimetype": "text/x-python",
   "name": "python",
   "nbconvert_exporter": "python",
   "pygments_lexer": "ipython3",
   "version": "3.12.4"
  }
 },
 "nbformat": 4,
 "nbformat_minor": 2
}
